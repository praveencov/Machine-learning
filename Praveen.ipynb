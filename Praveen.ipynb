{
 "cells": [
  {
   "cell_type": "code",
   "execution_count": 1,
   "id": "598d6046",
   "metadata": {},
   "outputs": [],
   "source": [
    "#Packages needed\n",
    "import pandas as pd\n",
    "import numpy as np\n",
    "import matplotlib.pyplot as plt\n",
    "from sklearn.tree import DecisionTreeClassifier\n",
    "from sklearn.model_selection import train_test_split\n",
    "from sklearn.linear_model import LogisticRegression\n",
    "from sklearn import tree\n",
    "from sklearn.decomposition import PCA\n",
    "from sklearn.metrics import classification_report, r2_score,mean_absolute_error, mean_squared_error\n",
    "from sklearn.naive_bayes import GaussianNB"
   ]
  },
  {
   "cell_type": "code",
   "execution_count": 2,
   "id": "bec5d80c",
   "metadata": {},
   "outputs": [],
   "source": [
    "#Dataset extraction\n",
    "subscription_data=pd.read_csv(\"Bank_Additional_Full_Data.csv\")"
   ]
  },
  {
   "cell_type": "code",
   "execution_count": 3,
   "id": "07118360",
   "metadata": {},
   "outputs": [
    {
     "name": "stdout",
     "output_type": "stream",
     "text": [
      "<class 'pandas.core.frame.DataFrame'>\n",
      "RangeIndex: 41188 entries, 0 to 41187\n",
      "Data columns (total 21 columns):\n",
      " #   Column          Non-Null Count  Dtype  \n",
      "---  ------          --------------  -----  \n",
      " 0   age             41188 non-null  int64  \n",
      " 1   job             41188 non-null  object \n",
      " 2   marital         41188 non-null  object \n",
      " 3   education       41188 non-null  object \n",
      " 4   default         41188 non-null  object \n",
      " 5   housing         41188 non-null  object \n",
      " 6   loan            41188 non-null  object \n",
      " 7   contact         41188 non-null  object \n",
      " 8   month           41188 non-null  object \n",
      " 9   day_of_week     41188 non-null  object \n",
      " 10  duration        41188 non-null  int64  \n",
      " 11  campaign        41188 non-null  int64  \n",
      " 12  pdays           41188 non-null  int64  \n",
      " 13  previous        41188 non-null  int64  \n",
      " 14  poutcome        41188 non-null  object \n",
      " 15  emp_var_rate    41188 non-null  float64\n",
      " 16  cons_price_idx  41188 non-null  float64\n",
      " 17  cons_conf_idx   41188 non-null  float64\n",
      " 18  euribor3m       41188 non-null  float64\n",
      " 19  nr_employed     41188 non-null  float64\n",
      " 20  subscribed      41188 non-null  object \n",
      "dtypes: float64(5), int64(5), object(11)\n",
      "memory usage: 6.6+ MB\n"
     ]
    }
   ],
   "source": [
    "#Dataset column info\n",
    "subscription_data.info()"
   ]
  },
  {
   "cell_type": "code",
   "execution_count": 4,
   "id": "c3e630de",
   "metadata": {},
   "outputs": [],
   "source": [
    "#Changing null values with 0\n",
    "subscription_data=subscription_data.fillna(0)"
   ]
  },
  {
   "cell_type": "code",
   "execution_count": 5,
   "id": "731ed2ce",
   "metadata": {},
   "outputs": [],
   "source": [
    "#Assigning the value of the dependent variable as 1 and 0\n",
    "cond0=[\n",
    "    subscription_data['subscribed']==\"no\",\n",
    "    subscription_data['subscribed']==\"yes\"\n",
    "    \n",
    "]\n",
    "val0=[0,1]\n",
    "subscription_data['out']=np.select(cond0,val0)"
   ]
  },
  {
   "cell_type": "code",
   "execution_count": 6,
   "id": "18d6a5f3",
   "metadata": {},
   "outputs": [],
   "source": [
    "# Target and feature variable assignment\n",
    "feature = subscription_data.drop(['subscribed','out'],axis=1)\n",
    "target = subscription_data['out']"
   ]
  },
  {
   "cell_type": "code",
   "execution_count": 7,
   "id": "012f199f",
   "metadata": {},
   "outputs": [],
   "source": [
    "#Convert object type variables to dummy variables \n",
    "job = pd.get_dummies(feature['job'],drop_first=True)\n",
    "marital=pd.get_dummies(feature['marital'],drop_first=True)\n",
    "education=pd.get_dummies(feature['education'],drop_first=True)\n",
    "default=pd.get_dummies(feature['default'],drop_first=True)\n",
    "housing=pd.get_dummies(feature['housing'],drop_first=True)\n",
    "loan=pd.get_dummies(feature['loan'],drop_first=True)\n",
    "contact=pd.get_dummies(feature['contact'],drop_first=True)\n",
    "month=pd.get_dummies(feature['month'],drop_first=True)\n",
    "day_of_week=pd.get_dummies(feature['day_of_week'],drop_first=True)\n",
    "poutcome=pd.get_dummies(feature['poutcome'],drop_first=True)"
   ]
  },
  {
   "cell_type": "code",
   "execution_count": 8,
   "id": "82ce9fa1",
   "metadata": {},
   "outputs": [],
   "source": [
    "#Keeping the necessary features\n",
    "feature.drop(['job','marital','education','default','housing','loan','contact','month','day_of_week','poutcome'],axis=1,inplace=True)"
   ]
  },
  {
   "cell_type": "code",
   "execution_count": 9,
   "id": "3152d8b3",
   "metadata": {},
   "outputs": [],
   "source": [
    "#Final feature variable\n",
    "feature = pd.concat([feature,job,marital,education,default,housing,loan,contact,month,day_of_week,poutcome],axis=1)"
   ]
  },
  {
   "cell_type": "code",
   "execution_count": 10,
   "id": "80082854",
   "metadata": {},
   "outputs": [],
   "source": [
    "#Splitting the dataset into test and training\n",
    "X_train,X_test,Y_train,Y_test = train_test_split(feature, target ,test_size=0.15,random_state=40)"
   ]
  },
  {
   "cell_type": "code",
   "execution_count": 11,
   "id": "4198b029",
   "metadata": {},
   "outputs": [
    {
     "name": "stdout",
     "output_type": "stream",
     "text": [
      "Mean Absolute Error of Algorithm 1- Gaussian Naive Bayes is : 0.13335491179802558\n",
      "Root Mean Squared Error of Algorithm 1- Gaussian Naive Bayes is : 0.3651779180043963\n",
      "R-squared value of Algorithm 1- Gaussian Naive Bayes is : -0.2620662952803665\n",
      "Classification Report of Algorithm 1- Gaussian Naive Bayes is :\n",
      "               precision    recall  f1-score   support\n",
      "\n",
      "           0       0.93      0.92      0.92      5437\n",
      "           1       0.45      0.48      0.46       742\n",
      "\n",
      "    accuracy                           0.87      6179\n",
      "   macro avg       0.69      0.70      0.69      6179\n",
      "weighted avg       0.87      0.87      0.87      6179\n",
      "\n"
     ]
    }
   ],
   "source": [
    "#ML Algorithm 1- Gaussian Naive Bayes\n",
    "import warnings\n",
    "with warnings.catch_warnings(record=True):\n",
    "    gsian_nbayes = GaussianNB()\n",
    "    gsian_nbayes.fit(X_train, Y_train)\n",
    "    Y_pred = gsian_nbayes.predict(X_test)\n",
    "    print('Mean Absolute Error of Algorithm 1- Gaussian Naive Bayes is :', mean_absolute_error(Y_test, Y_pred))\n",
    "    print('Root Mean Squared Error of Algorithm 1- Gaussian Naive Bayes is :', np.sqrt(mean_squared_error(Y_test, Y_pred)))\n",
    "    print('R-squared value of Algorithm 1- Gaussian Naive Bayes is :',r2_score(Y_test, Y_pred))\n",
    "    print('Classification Report of Algorithm 1- Gaussian Naive Bayes is :\\n',classification_report(Y_test, Y_pred))"
   ]
  },
  {
   "cell_type": "code",
   "execution_count": 12,
   "id": "5962cf61",
   "metadata": {},
   "outputs": [
    {
     "name": "stdout",
     "output_type": "stream",
     "text": [
      "Mean Absolute Error of Algorithm  2- Logistic Regression is : 0.0983977989966014\n",
      "Root Mean Squared Error of Algorithm  2- Logistic Regression is : 0.3136842345362632\n",
      "R-squared value of Algorithm  2- Logistic Regression is : 0.06876661707468112\n",
      "Classification Report of Algorithm  2- Logistic Regression is :\n",
      "               precision    recall  f1-score   support\n",
      "\n",
      "           0       0.92      0.97      0.95      5437\n",
      "           1       0.66      0.37      0.47       742\n",
      "\n",
      "    accuracy                           0.90      6179\n",
      "   macro avg       0.79      0.67      0.71      6179\n",
      "weighted avg       0.89      0.90      0.89      6179\n",
      "\n"
     ]
    }
   ],
   "source": [
    "#ML Algorithm 2- Logistic Regression\n",
    "import warnings\n",
    "with warnings.catch_warnings(record=True):\n",
    "    logs_regr = LogisticRegression()\n",
    "    logs_regr.fit(X_train, Y_train)\n",
    "    Y_pred1 = logs_regr.predict(X_test)\n",
    "    print('Mean Absolute Error of Algorithm  2- Logistic Regression is :', mean_absolute_error(Y_test, Y_pred1))\n",
    "    print('Root Mean Squared Error of Algorithm  2- Logistic Regression is :', np.sqrt(mean_squared_error(Y_test, Y_pred1)))\n",
    "    print('R-squared value of Algorithm  2- Logistic Regression is :',r2_score(Y_test, Y_pred1))\n",
    "    print('Classification Report of Algorithm  2- Logistic Regression is :\\n',classification_report(Y_test, Y_pred1))"
   ]
  },
  {
   "cell_type": "code",
   "execution_count": 13,
   "id": "92ce8339",
   "metadata": {},
   "outputs": [
    {
     "name": "stdout",
     "output_type": "stream",
     "text": [
      "Mean Absolute Error of Algorithm 3- Decision Tree is : 0.11134487781194367\n",
      "Root Mean Squared Error of Algorithm 3- Decision Tree is : 0.3336837991451543\n",
      "R-squared value of Algorithm 3- Decision Tree is : -0.05376409120496617\n",
      "Classification Report of Algorithm 3- Decision Tree is :\n",
      "               precision    recall  f1-score   support\n",
      "\n",
      "           0       0.94      0.94      0.94      5437\n",
      "           1       0.54      0.53      0.53       742\n",
      "\n",
      "    accuracy                           0.89      6179\n",
      "   macro avg       0.74      0.73      0.73      6179\n",
      "weighted avg       0.89      0.89      0.89      6179\n",
      "\n"
     ]
    }
   ],
   "source": [
    "#ML Algorithm 3- Decision Tree\n",
    "import warnings\n",
    "with warnings.catch_warnings(record=True):\n",
    "    decsn_tr = DecisionTreeClassifier(random_state=8)\n",
    "    decsn_tr.fit(X_train, Y_train)\n",
    "    Y_pred2 = decsn_tr.predict(X_test)\n",
    "    print('Mean Absolute Error of Algorithm 3- Decision Tree is :', mean_absolute_error(Y_test, Y_pred2))\n",
    "    print('Root Mean Squared Error of Algorithm 3- Decision Tree is :', np.sqrt(mean_squared_error(Y_test, Y_pred2)))\n",
    "    print('R-squared value of Algorithm 3- Decision Tree is :',r2_score(Y_test, Y_pred2))\n",
    "    print('Classification Report of Algorithm 3- Decision Tree is :\\n',classification_report(Y_test, Y_pred2))"
   ]
  },
  {
   "cell_type": "code",
   "execution_count": 14,
   "id": "5c797a8a",
   "metadata": {},
   "outputs": [],
   "source": [
    "#ML Algorithm 4- Principal Component Analysis for Clustering\n",
    "pca = PCA()\n",
    "numbers = feature.values\n",
    "pca.fit(numbers)\n",
    "sub_pca = pca.transform(numbers)"
   ]
  },
  {
   "cell_type": "code",
   "execution_count": 15,
   "id": "96a4b4e0",
   "metadata": {},
   "outputs": [
    {
     "data": {
      "text/plain": [
       "Text(0.5, 0, 'PC 1')"
      ]
     },
     "execution_count": 15,
     "metadata": {},
     "output_type": "execute_result"
    },
    {
     "data": {
      "image/png": "[encoded data removed]",
      "text/plain": [
       "<Figure size 640x480 with 1 Axes>"
      ]
     },
     "metadata": {},
     "output_type": "display_data"
    }
   ],
   "source": [
    "#Scatter visualisation for PC1 vs PC2\n",
    "ax = plt.gca()\n",
    "ax.scatter(sub_pca[:,0], sub_pca[:,1])\n",
    "ax.set_ylabel('PC 2')\n",
    "ax.set_xlabel('PC 1')"
   ]
  },
  {
   "cell_type": "code",
   "execution_count": 16,
   "id": "8ada60bf",
   "metadata": {},
   "outputs": [
    {
     "data": {
      "image/png": "[encoded data removed]",
      "text/plain": [
       "<Figure size 640x480 with 1 Axes>"
      ]
     },
     "metadata": {},
     "output_type": "display_data"
    }
   ],
   "source": [
    "#Scree plot technique\n",
    "import warnings\n",
    "with warnings.catch_warnings(record=True):\n",
    "    ax = plt.gca()\n",
    "    expl_vrnce = pca.explained_variance_ratio_\n",
    "    ax.plot(expl_vrnce, marker='x')\n",
    "    ax.set_ylim(0,1.)\n",
    "    ax.set_xlabel('PC')\n",
    "    ax.set_xticklabels([\"PC{}\".format(i) for i in range(6)])"
   ]
  },
  {
   "cell_type": "code",
   "execution_count": 17,
   "id": "1da88905",
   "metadata": {},
   "outputs": [
    {
     "name": "stdout",
     "output_type": "stream",
     "text": [
      "PCA Explanation of variance: [6.26922320e-01 3.30904467e-01 4.08537841e-02 1.01342190e-03\n",
      " 1.91030837e-04 6.95091080e-05 8.05755752e-06 3.67051082e-06\n",
      " 2.83757773e-06 2.45573254e-06 2.32783261e-06 2.23258822e-06\n",
      " 1.99156081e-06 1.94693218e-06 1.91796485e-06 1.82961747e-06\n",
      " 1.81217298e-06 1.78509210e-06 1.37942249e-06 1.21036817e-06\n",
      " 1.19031781e-06 1.00176860e-06 9.27956439e-07 7.39409779e-07\n",
      " 6.12778452e-07 5.35374435e-07 5.01357331e-07 4.33804765e-07\n",
      " 4.20600795e-07 4.19037856e-07 4.08890800e-07 3.55045692e-07\n",
      " 3.22835678e-07 3.06620191e-07 2.66954437e-07 2.32238545e-07\n",
      " 1.85629172e-07 1.80479245e-07 1.60574175e-07 1.45012786e-07\n",
      " 1.37854207e-07 1.18892098e-07 9.65996686e-08 8.43839362e-08\n",
      " 6.55914223e-08 6.10576827e-08 3.76384866e-08 2.65709312e-08\n",
      " 1.76246969e-08 1.43805722e-08 4.04179918e-09 6.76464746e-10\n",
      " 5.25400579e-33]\n"
     ]
    }
   ],
   "source": [
    "#PCA Explanation of variance\n",
    "print(\"PCA Explanation of variance:\",expl_vrnce)"
   ]
  },
  {
   "cell_type": "code",
   "execution_count": null,
   "id": "24d55ff0",
   "metadata": {},
   "outputs": [],
   "source": []
  }
 ],
 "metadata": {
  "kernelspec": {
   "display_name": "Python 3 (ipykernel)",
   "language": "python",
   "name": "python3"
  },
  "language_info": {
   "codemirror_mode": {
    "name": "ipython",
    "version": 3
   },
   "file_extension": ".py",
   "mimetype": "text/x-python",
   "name": "python",
   "nbconvert_exporter": "python",
   "pygments_lexer": "ipython3",
   "version": "3.9.13"
  }
 },
 "nbformat": 4,
 "nbformat_minor": 5
}
